{
 "cells": [
  {
   "cell_type": "code",
   "execution_count": 1,
   "metadata": {},
   "outputs": [
    {
     "name": "stdout",
     "output_type": "stream",
     "text": [
      "Requirement already satisfied: redis in c:\\users\\acer\\anaconda3\\envs\\uda_dev_4\\lib\\site-packages (3.5.3)\n"
     ]
    }
   ],
   "source": [
    "!pip install redis"
   ]
  },
  {
   "cell_type": "code",
   "execution_count": 2,
   "metadata": {},
   "outputs": [
    {
     "name": "stdout",
     "output_type": "stream",
     "text": [
      "Keys: ['Cats', 'Dogs']\n"
     ]
    }
   ],
   "source": [
    "import redis\n",
    "\n",
    "# Connect to Redis\n",
    "r = redis.Redis(host='localhost', port=6379, decode_responses=True)\n",
    "\n",
    "# List all keys\n",
    "keys = r.keys('*')\n",
    "print(\"Keys:\", keys)"
   ]
  },
  {
   "cell_type": "code",
   "execution_count": 3,
   "metadata": {},
   "outputs": [
    {
     "data": {
      "text/plain": [
       "True"
      ]
     },
     "execution_count": 3,
     "metadata": {},
     "output_type": "execute_result"
    }
   ],
   "source": [
    "r.set('Dogs', 0)\n",
    "r.set('Cats', 0)"
   ]
  },
  {
   "cell_type": "code",
   "execution_count": 4,
   "metadata": {},
   "outputs": [
    {
     "name": "stdout",
     "output_type": "stream",
     "text": [
      "Value of 'Dogs': 0\n",
      "Value of 'Cats': 0\n"
     ]
    }
   ],
   "source": [
    "# Get value of a specific key\n",
    "dogs_value = r.get('Dogs')\n",
    "cats_value = r.get('Cats')\n",
    "print(\"Value of 'Dogs':\", dogs_value)\n",
    "print(\"Value of 'Cats':\", cats_value)"
   ]
  },
  {
   "cell_type": "code",
   "execution_count": 5,
   "metadata": {},
   "outputs": [
    {
     "name": "stdout",
     "output_type": "stream",
     "text": [
      "Type of 'Dogs': string\n",
      "Type of 'Cats': string\n"
     ]
    }
   ],
   "source": [
    "print(f\"Type of 'Dogs': {r.type('Dogs')}\")\n",
    "print(f\"Type of 'Cats': {r.type('Cats')}\")"
   ]
  },
  {
   "cell_type": "code",
   "execution_count": 7,
   "metadata": {},
   "outputs": [
    {
     "ename": "ResponseError",
     "evalue": "WRONGTYPE Operation against a key holding the wrong kind of value",
     "output_type": "error",
     "traceback": [
      "\u001b[1;31m---------------------------------------------------------------------------\u001b[0m",
      "\u001b[1;31mResponseError\u001b[0m                             Traceback (most recent call last)",
      "Cell \u001b[1;32mIn[7], line 2\u001b[0m\n\u001b[0;32m      1\u001b[0m \u001b[38;5;66;03m# Retrieve list data\u001b[39;00m\n\u001b[1;32m----> 2\u001b[0m list_dogs_data \u001b[38;5;241m=\u001b[39m \u001b[43mr\u001b[49m\u001b[38;5;241;43m.\u001b[39;49m\u001b[43mlrange\u001b[49m\u001b[43m(\u001b[49m\u001b[38;5;124;43m'\u001b[39;49m\u001b[38;5;124;43mDogs\u001b[39;49m\u001b[38;5;124;43m'\u001b[39;49m\u001b[43m,\u001b[49m\u001b[43m \u001b[49m\u001b[38;5;241;43m0\u001b[39;49m\u001b[43m,\u001b[49m\u001b[43m \u001b[49m\u001b[38;5;241;43m-\u001b[39;49m\u001b[38;5;241;43m1\u001b[39;49m\u001b[43m)\u001b[49m\n\u001b[0;32m      3\u001b[0m list_cats_data \u001b[38;5;241m=\u001b[39m r\u001b[38;5;241m.\u001b[39mlrange(\u001b[38;5;124m'\u001b[39m\u001b[38;5;124mCats\u001b[39m\u001b[38;5;124m'\u001b[39m, \u001b[38;5;241m0\u001b[39m, \u001b[38;5;241m-\u001b[39m\u001b[38;5;241m1\u001b[39m)\n\u001b[0;32m      4\u001b[0m \u001b[38;5;28mprint\u001b[39m(\u001b[38;5;124m\"\u001b[39m\u001b[38;5;124mList Dogs Data:\u001b[39m\u001b[38;5;124m\"\u001b[39m, list_dogs_data)\n",
      "File \u001b[1;32mc:\\Users\\acer\\anaconda3\\envs\\uda_dev_4\\lib\\site-packages\\redis\\client.py:1975\u001b[0m, in \u001b[0;36mRedis.lrange\u001b[1;34m(self, name, start, end)\u001b[0m\n\u001b[0;32m   1967\u001b[0m \u001b[38;5;28;01mdef\u001b[39;00m \u001b[38;5;21mlrange\u001b[39m(\u001b[38;5;28mself\u001b[39m, name, start, end):\n\u001b[0;32m   1968\u001b[0m \u001b[38;5;250m    \u001b[39m\u001b[38;5;124;03m\"\"\"\u001b[39;00m\n\u001b[0;32m   1969\u001b[0m \u001b[38;5;124;03m    Return a slice of the list ``name`` between\u001b[39;00m\n\u001b[0;32m   1970\u001b[0m \u001b[38;5;124;03m    position ``start`` and ``end``\u001b[39;00m\n\u001b[1;32m   (...)\u001b[0m\n\u001b[0;32m   1973\u001b[0m \u001b[38;5;124;03m    Python slicing notation\u001b[39;00m\n\u001b[0;32m   1974\u001b[0m \u001b[38;5;124;03m    \"\"\"\u001b[39;00m\n\u001b[1;32m-> 1975\u001b[0m     \u001b[38;5;28;01mreturn\u001b[39;00m \u001b[38;5;28;43mself\u001b[39;49m\u001b[38;5;241;43m.\u001b[39;49m\u001b[43mexecute_command\u001b[49m\u001b[43m(\u001b[49m\u001b[38;5;124;43m'\u001b[39;49m\u001b[38;5;124;43mLRANGE\u001b[39;49m\u001b[38;5;124;43m'\u001b[39;49m\u001b[43m,\u001b[49m\u001b[43m \u001b[49m\u001b[43mname\u001b[49m\u001b[43m,\u001b[49m\u001b[43m \u001b[49m\u001b[43mstart\u001b[49m\u001b[43m,\u001b[49m\u001b[43m \u001b[49m\u001b[43mend\u001b[49m\u001b[43m)\u001b[49m\n",
      "File \u001b[1;32mc:\\Users\\acer\\anaconda3\\envs\\uda_dev_4\\lib\\site-packages\\redis\\client.py:901\u001b[0m, in \u001b[0;36mRedis.execute_command\u001b[1;34m(self, *args, **options)\u001b[0m\n\u001b[0;32m    899\u001b[0m \u001b[38;5;28;01mtry\u001b[39;00m:\n\u001b[0;32m    900\u001b[0m     conn\u001b[38;5;241m.\u001b[39msend_command(\u001b[38;5;241m*\u001b[39margs)\n\u001b[1;32m--> 901\u001b[0m     \u001b[38;5;28;01mreturn\u001b[39;00m \u001b[38;5;28;43mself\u001b[39;49m\u001b[38;5;241;43m.\u001b[39;49m\u001b[43mparse_response\u001b[49m\u001b[43m(\u001b[49m\u001b[43mconn\u001b[49m\u001b[43m,\u001b[49m\u001b[43m \u001b[49m\u001b[43mcommand_name\u001b[49m\u001b[43m,\u001b[49m\u001b[43m \u001b[49m\u001b[38;5;241;43m*\u001b[39;49m\u001b[38;5;241;43m*\u001b[39;49m\u001b[43moptions\u001b[49m\u001b[43m)\u001b[49m\n\u001b[0;32m    902\u001b[0m \u001b[38;5;28;01mexcept\u001b[39;00m (\u001b[38;5;167;01mConnectionError\u001b[39;00m, \u001b[38;5;167;01mTimeoutError\u001b[39;00m) \u001b[38;5;28;01mas\u001b[39;00m e:\n\u001b[0;32m    903\u001b[0m     conn\u001b[38;5;241m.\u001b[39mdisconnect()\n",
      "File \u001b[1;32mc:\\Users\\acer\\anaconda3\\envs\\uda_dev_4\\lib\\site-packages\\redis\\client.py:915\u001b[0m, in \u001b[0;36mRedis.parse_response\u001b[1;34m(self, connection, command_name, **options)\u001b[0m\n\u001b[0;32m    913\u001b[0m \u001b[38;5;124m\"\u001b[39m\u001b[38;5;124mParses a response from the Redis server\u001b[39m\u001b[38;5;124m\"\u001b[39m\n\u001b[0;32m    914\u001b[0m \u001b[38;5;28;01mtry\u001b[39;00m:\n\u001b[1;32m--> 915\u001b[0m     response \u001b[38;5;241m=\u001b[39m \u001b[43mconnection\u001b[49m\u001b[38;5;241;43m.\u001b[39;49m\u001b[43mread_response\u001b[49m\u001b[43m(\u001b[49m\u001b[43m)\u001b[49m\n\u001b[0;32m    916\u001b[0m \u001b[38;5;28;01mexcept\u001b[39;00m ResponseError:\n\u001b[0;32m    917\u001b[0m     \u001b[38;5;28;01mif\u001b[39;00m EMPTY_RESPONSE \u001b[38;5;129;01min\u001b[39;00m options:\n",
      "File \u001b[1;32mc:\\Users\\acer\\anaconda3\\envs\\uda_dev_4\\lib\\site-packages\\redis\\connection.py:756\u001b[0m, in \u001b[0;36mConnection.read_response\u001b[1;34m(self)\u001b[0m\n\u001b[0;32m    753\u001b[0m     \u001b[38;5;28mself\u001b[39m\u001b[38;5;241m.\u001b[39mnext_health_check \u001b[38;5;241m=\u001b[39m time() \u001b[38;5;241m+\u001b[39m \u001b[38;5;28mself\u001b[39m\u001b[38;5;241m.\u001b[39mhealth_check_interval\n\u001b[0;32m    755\u001b[0m \u001b[38;5;28;01mif\u001b[39;00m \u001b[38;5;28misinstance\u001b[39m(response, ResponseError):\n\u001b[1;32m--> 756\u001b[0m     \u001b[38;5;28;01mraise\u001b[39;00m response\n\u001b[0;32m    757\u001b[0m \u001b[38;5;28;01mreturn\u001b[39;00m response\n",
      "\u001b[1;31mResponseError\u001b[0m: WRONGTYPE Operation against a key holding the wrong kind of value"
     ]
    }
   ],
   "source": [
    "# Retrieve list data\n",
    "list_dogs_data = r.lrange('Dogs', 0, -1)\n",
    "list_cats_data = r.lrange('Cats', 0, -1)\n",
    "print(\"List Dogs Data:\", list_dogs_data)\n",
    "print(\"List Cats Data:\", list_cats_data)"
   ]
  },
  {
   "cell_type": "code",
   "execution_count": null,
   "metadata": {},
   "outputs": [
    {
     "data": {
      "text/plain": [
       "1"
      ]
     },
     "execution_count": 11,
     "metadata": {},
     "output_type": "execute_result"
    }
   ],
   "source": [
    "# # Delete the existing keys\n",
    "# r.delete('Dogs')\n",
    "# r.delete('Cats')\n",
    "\n",
    "# # Create new keys as lists\n",
    "# r.rpush('Dogs', 'Dog1', 'Dog2', 'Dog3')\n",
    "# r.rpush('Cats', 'Cat1', 'Cat2', 'Cat3')\n",
    "\n",
    "# # Retrieve list data\n",
    "# list_dogs_data = r.lrange('Dogs', 0, -1)\n",
    "# list_cats_data = r.lrange('Cats', 0, -1)\n",
    "# print(\"List Dogs Data:\", list_dogs_data)\n",
    "# print(\"List Cats Data:\", list_cats_data)\n"
   ]
  },
  {
   "cell_type": "code",
   "execution_count": null,
   "metadata": {},
   "outputs": [],
   "source": [
    "# # For sets\n",
    "# set_data = r.smembers('myset')\n",
    "# print(\"Set Data:\", set_data)\n",
    "\n",
    "# # For hashes\n",
    "# hash_data = r.hgetall('myhash')\n",
    "# print(\"Hash Data:\", hash_data)"
   ]
  }
 ],
 "metadata": {
  "kernelspec": {
   "display_name": "uda_dev_4",
   "language": "python",
   "name": "python3"
  },
  "language_info": {
   "codemirror_mode": {
    "name": "ipython",
    "version": 3
   },
   "file_extension": ".py",
   "mimetype": "text/x-python",
   "name": "python",
   "nbconvert_exporter": "python",
   "pygments_lexer": "ipython3",
   "version": "3.8.20"
  }
 },
 "nbformat": 4,
 "nbformat_minor": 2
}
